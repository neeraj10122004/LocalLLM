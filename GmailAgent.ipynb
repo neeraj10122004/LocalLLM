{
  "nbformat": 4,
  "nbformat_minor": 0,
  "metadata": {
    "colab": {
      "provenance": [],
      "collapsed_sections": [
        "uzY915UTByQH"
      ]
    },
    "kernelspec": {
      "name": "python3",
      "display_name": "Python 3"
    },
    "language_info": {
      "name": "python"
    }
  },
  "cells": [
    {
      "cell_type": "code",
      "execution_count": null,
      "metadata": {
        "id": "6E8eANQQjQsM",
        "colab": {
          "base_uri": "https://localhost:8080/"
        },
        "outputId": "fc6de7b8-0a5e-499b-dbc5-28230f59fd74"
      },
      "outputs": [
        {
          "output_type": "stream",
          "name": "stdout",
          "text": [
            "\u001b[2K     \u001b[90m━━━━━━━━━━━━━━━━━━━━━━━━━━━━━━━━━━━━━━━━\u001b[0m \u001b[32m310.4/310.4 kB\u001b[0m \u001b[31m3.0 MB/s\u001b[0m eta \u001b[36m0:00:00\u001b[0m\n",
            "\u001b[2K     \u001b[90m━━━━━━━━━━━━━━━━━━━━━━━━━━━━━━━━━━━━━━━━\u001b[0m \u001b[32m124.8/124.8 kB\u001b[0m \u001b[31m4.0 MB/s\u001b[0m eta \u001b[36m0:00:00\u001b[0m\n",
            "\u001b[2K     \u001b[90m━━━━━━━━━━━━━━━━━━━━━━━━━━━━━━━━━━━━━━━━\u001b[0m \u001b[32m53.0/53.0 kB\u001b[0m \u001b[31m2.5 MB/s\u001b[0m eta \u001b[36m0:00:00\u001b[0m\n",
            "\u001b[2K     \u001b[90m━━━━━━━━━━━━━━━━━━━━━━━━━━━━━━━━━━━━━━━━\u001b[0m \u001b[32m142.5/142.5 kB\u001b[0m \u001b[31m1.9 MB/s\u001b[0m eta \u001b[36m0:00:00\u001b[0m\n",
            "\u001b[?25h"
          ]
        }
      ],
      "source": [
        "%pip install --upgrade --quiet langchain-core\n"
      ]
    },
    {
      "cell_type": "code",
      "source": [],
      "metadata": {
        "id": "K0Vdir63McQj"
      },
      "execution_count": null,
      "outputs": []
    },
    {
      "cell_type": "code",
      "source": [
        "%pip install --upgrade --quiet langchain langchainhub"
      ],
      "metadata": {
        "colab": {
          "base_uri": "https://localhost:8080/"
        },
        "id": "U6R7UQsk_p91",
        "outputId": "236942e2-e008-4f90-b814-75363cbd134b"
      },
      "execution_count": null,
      "outputs": [
        {
          "output_type": "stream",
          "name": "stdout",
          "text": [
            "\u001b[2K     \u001b[90m━━━━━━━━━━━━━━━━━━━━━━━━━━━━━━━━━━━━━━━━\u001b[0m \u001b[32m973.6/973.6 kB\u001b[0m \u001b[31m7.7 MB/s\u001b[0m eta \u001b[36m0:00:00\u001b[0m\n",
            "\u001b[?25h"
          ]
        }
      ]
    },
    {
      "cell_type": "code",
      "source": [
        "!pip install -qU langchain-openai"
      ],
      "metadata": {
        "colab": {
          "base_uri": "https://localhost:8080/"
        },
        "id": "qQ-zi_jU2lG9",
        "outputId": "d7899509-9ffe-409a-ae1d-f39cd9cf034e"
      },
      "execution_count": null,
      "outputs": [
        {
          "output_type": "stream",
          "name": "stdout",
          "text": [
            "\u001b[2K     \u001b[90m━━━━━━━━━━━━━━━━━━━━━━━━━━━━━━━━━━━━━━━━\u001b[0m \u001b[32m324.1/324.1 kB\u001b[0m \u001b[31m6.5 MB/s\u001b[0m eta \u001b[36m0:00:00\u001b[0m\n",
            "\u001b[2K     \u001b[90m━━━━━━━━━━━━━━━━━━━━━━━━━━━━━━━━━━━━━━━━\u001b[0m \u001b[32m1.1/1.1 MB\u001b[0m \u001b[31m10.1 MB/s\u001b[0m eta \u001b[36m0:00:00\u001b[0m\n",
            "\u001b[2K     \u001b[90m━━━━━━━━━━━━━━━━━━━━━━━━━━━━━━━━━━━━━━━━\u001b[0m \u001b[32m75.6/75.6 kB\u001b[0m \u001b[31m9.9 MB/s\u001b[0m eta \u001b[36m0:00:00\u001b[0m\n",
            "\u001b[2K     \u001b[90m━━━━━━━━━━━━━━━━━━━━━━━━━━━━━━━━━━━━━━━━\u001b[0m \u001b[32m77.9/77.9 kB\u001b[0m \u001b[31m7.8 MB/s\u001b[0m eta \u001b[36m0:00:00\u001b[0m\n",
            "\u001b[2K     \u001b[90m━━━━━━━━━━━━━━━━━━━━━━━━━━━━━━━━━━━━━━━━\u001b[0m \u001b[32m58.3/58.3 kB\u001b[0m \u001b[31m8.0 MB/s\u001b[0m eta \u001b[36m0:00:00\u001b[0m\n",
            "\u001b[?25h"
          ]
        }
      ]
    },
    {
      "cell_type": "code",
      "source": [
        "!wget -qq https://raw.githubusercontent.com/neeraj10122004/new_work/main/data.csv"
      ],
      "metadata": {
        "id": "LGisil_0E98S"
      },
      "execution_count": null,
      "outputs": []
    },
    {
      "cell_type": "code",
      "source": [
        "!pip install pandas"
      ],
      "metadata": {
        "colab": {
          "base_uri": "https://localhost:8080/"
        },
        "id": "YOWJDrjiJw7D",
        "outputId": "a7c91092-2954-4b8c-9bcf-8c3ebc660935"
      },
      "execution_count": null,
      "outputs": [
        {
          "output_type": "stream",
          "name": "stdout",
          "text": [
            "Requirement already satisfied: pandas in /usr/local/lib/python3.10/dist-packages (2.0.3)\n",
            "Requirement already satisfied: python-dateutil>=2.8.2 in /usr/local/lib/python3.10/dist-packages (from pandas) (2.8.2)\n",
            "Requirement already satisfied: pytz>=2020.1 in /usr/local/lib/python3.10/dist-packages (from pandas) (2023.4)\n",
            "Requirement already satisfied: tzdata>=2022.1 in /usr/local/lib/python3.10/dist-packages (from pandas) (2024.1)\n",
            "Requirement already satisfied: numpy>=1.21.0 in /usr/local/lib/python3.10/dist-packages (from pandas) (1.25.2)\n",
            "Requirement already satisfied: six>=1.5 in /usr/local/lib/python3.10/dist-packages (from python-dateutil>=2.8.2->pandas) (1.16.0)\n"
          ]
        }
      ]
    },
    {
      "cell_type": "code",
      "source": [
        "from langchain_core.tools import tool\n",
        "import os\n",
        "from email.message import EmailMessage\n",
        "import ssl\n",
        "import smtplib\n",
        "import pandas as pd\n",
        "\n",
        "@tool\n",
        "def email_retriever(query: str) -> list():\n",
        "    \"\"\"Email retriver retrives emails from excel sheet and returns the list of emails of selected candidates. returns list(str): emails_list\"\"\"\n",
        "    emails_list=[]\n",
        "    a=pd.read_csv(\"data.csv\")\n",
        "    for i in range(0,int(a.count())):\n",
        "      emails_list+=list(a.loc[i])\n",
        "    return emails_list\n",
        "\n",
        "@tool\n",
        "def compose_email(job_title: str, company_name: str) -> list():\n",
        "  \"\"\"\n",
        "  Composes a professional email congratulating a candidate on being selected for a Software Engineer position.\n",
        "\n",
        "  Args:\n",
        "      job_title (str): The specific Software Engineer position title.\n",
        "      company_name (str): The company name.\n",
        "\n",
        "  Returns:\n",
        "      list: list of subject and body.\n",
        "  \"\"\"\n",
        "\n",
        "  subject = f\"Congratulations! You've been selected for the {job_title} position at {company_name}.\"\n",
        "\n",
        "  body = f\"\"\"\\\n",
        "    Dear Candidate,\n",
        "\n",
        "    We are thrilled to inform you that you have been selected for the Job at Acme Inc. !\n",
        "\n",
        "    Your skills and experience during the interview process truly impressed us. We were particularly impressed by [mention specific skills or experiences that stood out]. We believe you will be a valuable asset to our team and are confident that you will make significant contributions to {company_name}.\n",
        "\n",
        "    In the coming days, you will receive a formal offer letter outlining the details of the position, including compensation and benefits.\n",
        "\n",
        "    In the meantime, if you have any questions, please do not hesitate to contact us. We look forward to welcoming you to the team!\n",
        "\n",
        "    Sincerely,\n",
        "\n",
        "    {company_name}  Hiring Team\n",
        "    \"\"\"\n",
        "\n",
        "  return [subject, body]\n",
        "\n",
        "@tool\n",
        "def send_email(email_sender: str,email_reciver: str,subject:str ,body:str)->None:\n",
        "    \"\"\"[dependencies get data from generate_subject_and_body_for_email ]sends email to email_reciver from email_sender email_sender.Args:email_sender (str):specifies email of sender if not provided default is neerajsaiteja@gmail.com,email_reciver (str):specifies email of reciver if not provided default is jackmaxak@gmail.com,subject (str):subject of the mail if not provided default is None,body (str): body of the mail if not provided default if empty. Returns:(str)\"\"\"\n",
        "    email_password=\"woef glei rhlf arjy\"\n",
        "    em=EmailMessage()\n",
        "    em['From']=email_sender\n",
        "    em['To']=email_reciver\n",
        "    em['Subject']=subject\n",
        "    em.set_content(body)\n",
        "\n",
        "    context=ssl.create_default_context()\n",
        "    print(em.as_string())\n",
        "    with smtplib.SMTP_SSL('smtp.gmail.com',465,context=context) as smtp:\n",
        "        print(\"hi\")\n",
        "        smtp.login(email_sender,email_password)\n",
        "        print(\"hello\")\n",
        "        smtp.sendmail(email_sender,email_reciver,em.as_string())\n"
      ],
      "metadata": {
        "id": "eYW_0VSK2YLB"
      },
      "execution_count": null,
      "outputs": []
    },
    {
      "cell_type": "code",
      "source": [
        "from langchain import hub\n",
        "prompt = hub.pull(\"hwchase17/openai-tools-agent\")\n",
        "prompt.pretty_print()"
      ],
      "metadata": {
        "colab": {
          "base_uri": "https://localhost:8080/"
        },
        "id": "I6I3ChtKBj1E",
        "outputId": "abccfd73-79a8-482a-a101-4d3bffb85e81"
      },
      "execution_count": null,
      "outputs": [
        {
          "output_type": "stream",
          "name": "stdout",
          "text": [
            "================================\u001b[1m System Message \u001b[0m================================\n",
            "\n",
            "You are a helpful assistant\n",
            "\n",
            "=============================\u001b[1m Messages Placeholder \u001b[0m=============================\n",
            "\n",
            "\u001b[33;1m\u001b[1;3m{chat_history}\u001b[0m\n",
            "\n",
            "================================\u001b[1m Human Message \u001b[0m=================================\n",
            "\n",
            "\u001b[33;1m\u001b[1;3m{input}\u001b[0m\n",
            "\n",
            "=============================\u001b[1m Messages Placeholder \u001b[0m=============================\n",
            "\n",
            "\u001b[33;1m\u001b[1;3m{agent_scratchpad}\u001b[0m\n"
          ]
        }
      ]
    },
    {
      "cell_type": "markdown",
      "source": [],
      "metadata": {
        "id": "YYKesbPVBjgZ"
      }
    },
    {
      "cell_type": "code",
      "source": [
        "import getpass\n",
        "import os\n",
        "from langchain_openai import ChatOpenAI\n",
        "\n",
        "os.environ[\"OPENAI_API_KEY\"] = getpass.getpass()\n",
        "\n",
        "\n",
        "llm = ChatOpenAI(model=\"gpt-3.5-turbo-0125\")"
      ],
      "metadata": {
        "colab": {
          "base_uri": "https://localhost:8080/"
        },
        "id": "pK_3Cl2Y2hbf",
        "outputId": "3a145641-7950-456c-e0dd-78510cdb907d"
      },
      "execution_count": null,
      "outputs": [
        {
          "name": "stdout",
          "output_type": "stream",
          "text": [
            "··········\n"
          ]
        }
      ]
    },
    {
      "cell_type": "code",
      "source": [
        "from langchain import hub\n",
        "from langchain.agents import AgentExecutor, create_tool_calling_agent\n",
        "from langchain_openai import ChatOpenAI\n",
        "\n",
        "llm = ChatOpenAI(model=\"gpt-3.5-turbo-0125\")\n",
        "tools = [send_email,email_retriever]\n",
        "# Construct the tool calling agent\n",
        "agent = create_tool_calling_agent(llm, tools, prompt)\n",
        "# Create an agent executor by passing in the agent and tools\n",
        "agent_executor = AgentExecutor(agent=agent, tools=tools, verbose=True)\n",
        "\n",
        "agent_executor.invoke(\n",
        "    {\n",
        "        \"input\": \"generate subject and body and send send mail to 322103310003@gvpce.ac.in from neerajsaiteja@gmail.com regarding his selection as S.D.E at Alchamy.inc\"\n",
        "    }\n",
        ")\n"
      ],
      "metadata": {
        "colab": {
          "base_uri": "https://localhost:8080/"
        },
        "id": "L_AgjtUeAgO2",
        "outputId": "361bc98e-c7cf-4113-cb11-d469b15028dc"
      },
      "execution_count": null,
      "outputs": [
        {
          "output_type": "stream",
          "name": "stdout",
          "text": [
            "\n",
            "\n",
            "\u001b[1m> Entering new AgentExecutor chain...\u001b[0m\n",
            "\u001b[32;1m\u001b[1;3m\n",
            "Invoking: `send_email` with `{'email_sender': 'neerajsaiteja@gmail.com', 'email_reciver': '322103310003@gvpce.ac.in', 'subject': 'Selection as S.D.E at Alchamy.inc', 'body': 'Congratulations! You have been selected as a Software Development Engineer at Alchamy.inc. Please find attached the offer letter for further details. Looking forward to your positive response.'}`\n",
            "\n",
            "\n",
            "\u001b[0mFrom: neerajsaiteja@gmail.com\n",
            "To: 322103310003@gvpce.ac.in\n",
            "Subject: Selection as S.D.E at Alchamy.inc\n",
            "Content-Type: text/plain; charset=\"utf-8\"\n",
            "Content-Transfer-Encoding: quoted-printable\n",
            "MIME-Version: 1.0\n",
            "\n",
            "Congratulations! You have been selected as a Software Development Engineer at=\n",
            " Alchamy.inc. Please find attached the offer letter for further details. Look=\n",
            "ing forward to your positive response.\n",
            "\n",
            "hi\n",
            "hello\n",
            "\u001b[36;1m\u001b[1;3mNone\u001b[0m\u001b[32;1m\u001b[1;3mThe email has been sent to 322103310003@gvpce.ac.in regarding their selection as S.D.E at Alchamy.inc.\u001b[0m\n",
            "\n",
            "\u001b[1m> Finished chain.\u001b[0m\n"
          ]
        },
        {
          "output_type": "execute_result",
          "data": {
            "text/plain": [
              "{'input': 'generate subject and body and send send mail to 322103310003@gvpce.ac.in from neerajsaiteja@gmail.com regarding his selection as S.D.E at Alchamy.inc',\n",
              " 'output': 'The email has been sent to 322103310003@gvpce.ac.in regarding their selection as S.D.E at Alchamy.inc.'}"
            ]
          },
          "metadata": {},
          "execution_count": 20
        }
      ]
    },
    {
      "cell_type": "code",
      "source": [
        "agent_executor.invoke(\n",
        "    {\n",
        "        \"input\": \"compose and send mail to all mails in data from neerajsaiteja@gmail.com regarding his selection as S.D.E at Alchamy.inc\"\n",
        "    }\n",
        ")"
      ],
      "metadata": {
        "colab": {
          "base_uri": "https://localhost:8080/"
        },
        "id": "lUrvQv25PbfY",
        "outputId": "dd74fef6-48b9-4a82-f90d-fa3dbb57846e"
      },
      "execution_count": null,
      "outputs": [
        {
          "output_type": "stream",
          "name": "stdout",
          "text": [
            "\n",
            "\n",
            "\u001b[1m> Entering new AgentExecutor chain...\u001b[0m\n",
            "\u001b[32;1m\u001b[1;3m\n",
            "Invoking: `email_retriever` with `{'query': 'data'}`\n",
            "\n",
            "\n",
            "\u001b[0m\u001b[33;1m\u001b[1;3m['neerajsaiteja@gmail.com', 'jackmaxak@gmail.com', '322103310003@gvpce.ac.in']\u001b[0m"
          ]
        },
        {
          "output_type": "stream",
          "name": "stderr",
          "text": [
            "<ipython-input-19-4ecad448c60e>:13: FutureWarning: Calling int on a single element Series is deprecated and will raise a TypeError in the future. Use int(ser.iloc[0]) instead\n",
            "  for i in range(0,int(a.count())):\n"
          ]
        },
        {
          "output_type": "stream",
          "name": "stdout",
          "text": [
            "\u001b[32;1m\u001b[1;3m\n",
            "Invoking: `send_email` with `{'email_sender': 'neerajsaiteja@gmail.com', 'email_reciver': 'neerajsaiteja@gmail.com', 'subject': 'Selection as S.D.E at Alchamy.inc', 'body': 'Congratulations Neeraj Saiteja! You have been selected as a Software Development Engineer at Alchamy.inc. We are excited to have you on board. Please reply to this email to confirm your acceptance.'}`\n",
            "\n",
            "\n",
            "\u001b[0mFrom: neerajsaiteja@gmail.com\n",
            "To: neerajsaiteja@gmail.com\n",
            "Subject: Selection as S.D.E at Alchamy.inc\n",
            "Content-Type: text/plain; charset=\"utf-8\"\n",
            "Content-Transfer-Encoding: quoted-printable\n",
            "MIME-Version: 1.0\n",
            "\n",
            "Congratulations Neeraj Saiteja! You have been selected as a Software Developm=\n",
            "ent Engineer at Alchamy.inc. We are excited to have you on board. Please repl=\n",
            "y to this email to confirm your acceptance.\n",
            "\n",
            "hi\n",
            "hello\n",
            "\u001b[36;1m\u001b[1;3mNone\u001b[0m\u001b[32;1m\u001b[1;3m\n",
            "Invoking: `send_email` with `{'email_sender': 'neerajsaiteja@gmail.com', 'email_reciver': 'jackmaxak@gmail.com', 'subject': 'Selection as S.D.E at Alchamy.inc', 'body': 'Dear Jack, I am pleased to inform you that Neeraj Saiteja has been selected as a Software Development Engineer at Alchamy.inc. Thank you for your support during the selection process.'}`\n",
            "\n",
            "\n",
            "\u001b[0mFrom: neerajsaiteja@gmail.com\n",
            "To: jackmaxak@gmail.com\n",
            "Subject: Selection as S.D.E at Alchamy.inc\n",
            "Content-Type: text/plain; charset=\"utf-8\"\n",
            "Content-Transfer-Encoding: quoted-printable\n",
            "MIME-Version: 1.0\n",
            "\n",
            "Dear Jack, I am pleased to inform you that Neeraj Saiteja has been selected a=\n",
            "s a Software Development Engineer at Alchamy.inc. Thank you for your support =\n",
            "during the selection process.\n",
            "\n",
            "hi\n",
            "hello\n",
            "\u001b[36;1m\u001b[1;3mNone\u001b[0m\u001b[32;1m\u001b[1;3m\n",
            "Invoking: `send_email` with `{'email_sender': 'neerajsaiteja@gmail.com', 'email_reciver': '322103310003@gvpce.ac.in', 'subject': 'Selection as S.D.E at Alchamy.inc', 'body': 'Dear Candidate, We regret to inform you that you have not been selected for the position of Software Development Engineer at Alchamy.inc. We appreciate your interest and wish you the best in your future endeavors.'}`\n",
            "\n",
            "\n",
            "\u001b[0mFrom: neerajsaiteja@gmail.com\n",
            "To: 322103310003@gvpce.ac.in\n",
            "Subject: Selection as S.D.E at Alchamy.inc\n",
            "Content-Type: text/plain; charset=\"utf-8\"\n",
            "Content-Transfer-Encoding: quoted-printable\n",
            "MIME-Version: 1.0\n",
            "\n",
            "Dear Candidate, We regret to inform you that you have not been selected for t=\n",
            "he position of Software Development Engineer at Alchamy.inc. We appreciate yo=\n",
            "ur interest and wish you the best in your future endeavors.\n",
            "\n",
            "hi\n",
            "hello\n",
            "\u001b[36;1m\u001b[1;3mNone\u001b[0m\u001b[32;1m\u001b[1;3mI have sent emails to all the candidates regarding the selection of Neeraj Saiteja as a Software Development Engineer at Alchamy.inc.\u001b[0m\n",
            "\n",
            "\u001b[1m> Finished chain.\u001b[0m\n"
          ]
        },
        {
          "output_type": "execute_result",
          "data": {
            "text/plain": [
              "{'input': 'compose and send mail to all mails in data from neerajsaiteja@gmail.com regarding his selection as S.D.E at Alchamy.inc',\n",
              " 'output': 'I have sent emails to all the candidates regarding the selection of Neeraj Saiteja as a Software Development Engineer at Alchamy.inc.'}"
            ]
          },
          "metadata": {},
          "execution_count": 21
        }
      ]
    },
    {
      "cell_type": "code",
      "source": [
        "from langchain_core.tools import tool\n",
        "import os\n",
        "from email.message import EmailMessage\n",
        "import ssl\n",
        "import smtplib\n",
        "import pandas as pd\n",
        "from langchain import hub\n",
        "import getpass\n",
        "import os\n",
        "from langchain_openai import ChatOpenAI\n",
        "from langchain.agents import AgentExecutor, create_tool_calling_agent\n",
        "\n",
        "\n",
        "@tool\n",
        "def email_retriever(query: str) -> list():\n",
        "    \"\"\"Email retriver retrives emails from excel sheet and returns the list of emails of selected candidates. returns list(str): emails_list\"\"\"\n",
        "    emails_list=[]\n",
        "    a=pd.read_csv(\"data.csv\")\n",
        "    for i in range(0,int(a.count())):\n",
        "      emails_list+=list(a.loc[i])\n",
        "    print(emails_list)\n",
        "    return emails_list\n",
        "\n",
        "@tool\n",
        "def compose_email(job_title: str, company_name: str) -> list():\n",
        "  \"\"\"\n",
        "  Composes a professional email congratulating a candidate on being selected for a Software Engineer position.\n",
        "\n",
        "  Args:\n",
        "      job_title (str): The specific Software Engineer position title.\n",
        "      company_name (str): The company name.\n",
        "\n",
        "  Returns:\n",
        "      list: list of subject and body.\n",
        "  \"\"\"\n",
        "\n",
        "  subject = f\"Congratulations! You've been selected for the {job_title} position at {company_name}.\"\n",
        "\n",
        "  body = f\"\"\"\\\n",
        "    Dear Candidate,\n",
        "\n",
        "    We are thrilled to inform you that you have been selected for the Job at Acme Inc. !\n",
        "\n",
        "    Your skills and experience during the interview process truly impressed us. We were particularly impressed by [mention specific skills or experiences that stood out]. We believe you will be a valuable asset to our team and are confident that you will make significant contributions to {company_name}.\n",
        "\n",
        "    In the coming days, you will receive a formal offer letter outlining the details of the position, including compensation and benefits.\n",
        "\n",
        "    In the meantime, if you have any questions, please do not hesitate to contact us. We look forward to welcoming you to the team!\n",
        "\n",
        "    Sincerely,\n",
        "\n",
        "    {company_name}  Hiring Team\n",
        "    \"\"\"\n",
        "\n",
        "  return [subject, body]\n",
        "\n",
        "@tool\n",
        "def send_email(email_sender: str,email_reciver: str,subject:str ,body:str)->None:\n",
        "    \"\"\"[dependencies get data from generate_subject_and_body_for_email ]sends email to email_reciver from email_sender email_sender.Args:email_sender (str):specifies email of sender if not provided default is neerajsaiteja@gmail.com,email_reciver (str):specifies email of reciver if not provided default is jackmaxak@gmail.com,subject (str):subject of the mail if not provided default is None,body (str): body of the mail if not provided default if empty. Returns:(str)\"\"\"\n",
        "    email_password=\"woef glei rhlf arjy\"\n",
        "    em=EmailMessage()\n",
        "    em['From']=email_sender\n",
        "    em['To']=email_reciver\n",
        "    em['Subject']=subject\n",
        "    em.set_content(body)\n",
        "\n",
        "    context=ssl.create_default_context()\n",
        "    print(em.as_string())\n",
        "    with smtplib.SMTP_SSL('smtp.gmail.com',465,context=context) as smtp:\n",
        "        print(\"hi\")\n",
        "        smtp.login(email_sender,email_password)\n",
        "        print(\"hello\")\n",
        "        smtp.sendmail(email_sender,email_reciver,em.as_string())\n",
        "\n",
        "prompt = hub.pull(\"hwchase17/openai-tools-agent\")\n",
        "prompt.pretty_print()\n",
        "\n",
        "os.environ[\"OPENAI_API_KEY\"] = getpass.getpass()\n",
        "\n",
        "\n",
        "llm = ChatOpenAI(model=\"gpt-3.5-turbo-0125\")\n",
        "tools = [send_email,email_retriever]\n",
        "# Construct the tool calling agent\n",
        "agent = create_tool_calling_agent(llm, tools, prompt)\n",
        "# Create an agent executor by passing in the agent and tools\n",
        "agent_executor = AgentExecutor(agent=agent, tools=tools, verbose=True)\n",
        "\n",
        "\n",
        "agent_executor.invoke(\n",
        "    {\n",
        "        \"input\": \"compose and send mail to all mails in data from neerajsaiteja@gmail.com regarding his selection as S.D.E at Alchamy.inc\"\n",
        "    }\n",
        ")"
      ],
      "metadata": {
        "colab": {
          "base_uri": "https://localhost:8080/"
        },
        "id": "rkVxruXLMiZ-",
        "outputId": "eb15f9b8-4426-47f1-e8cc-5e557614e267"
      },
      "execution_count": null,
      "outputs": [
        {
          "output_type": "stream",
          "name": "stdout",
          "text": [
            "================================\u001b[1m System Message \u001b[0m================================\n",
            "\n",
            "You are a helpful assistant\n",
            "\n",
            "=============================\u001b[1m Messages Placeholder \u001b[0m=============================\n",
            "\n",
            "\u001b[33;1m\u001b[1;3m{chat_history}\u001b[0m\n",
            "\n",
            "================================\u001b[1m Human Message \u001b[0m=================================\n",
            "\n",
            "\u001b[33;1m\u001b[1;3m{input}\u001b[0m\n",
            "\n",
            "=============================\u001b[1m Messages Placeholder \u001b[0m=============================\n",
            "\n",
            "\u001b[33;1m\u001b[1;3m{agent_scratchpad}\u001b[0m\n",
            "··········\n",
            "\n",
            "\n",
            "\u001b[1m> Entering new AgentExecutor chain...\u001b[0m\n",
            "\u001b[32;1m\u001b[1;3m\n",
            "Invoking: `email_retriever` with `{'query': 'selected_candidates'}`\n",
            "\n",
            "\n",
            "\u001b[0m['neerajsaiteja@gmail.com', 'jackmaxak@gmail.com', '322103310003@gvpce.ac.in']\n",
            "\u001b[33;1m\u001b[1;3m['neerajsaiteja@gmail.com', 'jackmaxak@gmail.com', '322103310003@gvpce.ac.in']\u001b[0m"
          ]
        },
        {
          "output_type": "stream",
          "name": "stderr",
          "text": [
            "<ipython-input-22-cf35bad4042c>:19: FutureWarning: Calling int on a single element Series is deprecated and will raise a TypeError in the future. Use int(ser.iloc[0]) instead\n",
            "  for i in range(0,int(a.count())):\n"
          ]
        },
        {
          "output_type": "stream",
          "name": "stdout",
          "text": [
            "\u001b[32;1m\u001b[1;3m\n",
            "Invoking: `send_email` with `{'email_sender': 'neerajsaiteja@gmail.com', 'email_reciver': 'neerajsaiteja@gmail.com', 'subject': 'Selection as S.D.E at Alchamy.inc', 'body': 'Congratulations on being selected as a Software Development Engineer at Alchamy.inc! We are excited to have you on board. Please let us know your availability for the onboarding process.'}`\n",
            "\n",
            "\n",
            "\u001b[0mFrom: neerajsaiteja@gmail.com\n",
            "To: neerajsaiteja@gmail.com\n",
            "Subject: Selection as S.D.E at Alchamy.inc\n",
            "Content-Type: text/plain; charset=\"utf-8\"\n",
            "Content-Transfer-Encoding: quoted-printable\n",
            "MIME-Version: 1.0\n",
            "\n",
            "Congratulations on being selected as a Software Development Engineer at Alcha=\n",
            "my.inc! We are excited to have you on board. Please let us know your availabi=\n",
            "lity for the onboarding process.\n",
            "\n",
            "hi\n",
            "hello\n",
            "\u001b[36;1m\u001b[1;3mNone\u001b[0m\u001b[32;1m\u001b[1;3m\n",
            "Invoking: `send_email` with `{'email_sender': 'neerajsaiteja@gmail.com', 'email_reciver': 'jackmaxak@gmail.com', 'subject': 'Selection as S.D.E at Alchamy.inc', 'body': 'Congratulations on being selected as a Software Development Engineer at Alchamy.inc! We are excited to have you on board. Please let us know your availability for the onboarding process.'}`\n",
            "\n",
            "\n",
            "\u001b[0mFrom: neerajsaiteja@gmail.com\n",
            "To: jackmaxak@gmail.com\n",
            "Subject: Selection as S.D.E at Alchamy.inc\n",
            "Content-Type: text/plain; charset=\"utf-8\"\n",
            "Content-Transfer-Encoding: quoted-printable\n",
            "MIME-Version: 1.0\n",
            "\n",
            "Congratulations on being selected as a Software Development Engineer at Alcha=\n",
            "my.inc! We are excited to have you on board. Please let us know your availabi=\n",
            "lity for the onboarding process.\n",
            "\n",
            "hi\n",
            "hello\n",
            "\u001b[36;1m\u001b[1;3mNone\u001b[0m\u001b[32;1m\u001b[1;3m\n",
            "Invoking: `send_email` with `{'email_sender': 'neerajsaiteja@gmail.com', 'email_reciver': '322103310003@gvpce.ac.in', 'subject': 'Selection as S.D.E at Alchamy.inc', 'body': 'Congratulations on being selected as a Software Development Engineer at Alchamy.inc! We are excited to have you on board. Please let us know your availability for the onboarding process.'}`\n",
            "\n",
            "\n",
            "\u001b[0mFrom: neerajsaiteja@gmail.com\n",
            "To: 322103310003@gvpce.ac.in\n",
            "Subject: Selection as S.D.E at Alchamy.inc\n",
            "Content-Type: text/plain; charset=\"utf-8\"\n",
            "Content-Transfer-Encoding: quoted-printable\n",
            "MIME-Version: 1.0\n",
            "\n",
            "Congratulations on being selected as a Software Development Engineer at Alcha=\n",
            "my.inc! We are excited to have you on board. Please let us know your availabi=\n",
            "lity for the onboarding process.\n",
            "\n",
            "hi\n",
            "hello\n",
            "\u001b[36;1m\u001b[1;3mNone\u001b[0m\u001b[32;1m\u001b[1;3mI have successfully composed and sent emails to all the selected candidates regarding their selection as Software Development Engineers at Alchamy.inc.\u001b[0m\n",
            "\n",
            "\u001b[1m> Finished chain.\u001b[0m\n"
          ]
        },
        {
          "output_type": "execute_result",
          "data": {
            "text/plain": [
              "{'input': 'compose and send mail to all mails in data from neerajsaiteja@gmail.com regarding his selection as S.D.E at Alchamy.inc',\n",
              " 'output': 'I have successfully composed and sent emails to all the selected candidates regarding their selection as Software Development Engineers at Alchamy.inc.'}"
            ]
          },
          "metadata": {},
          "execution_count": 22
        }
      ]
    },
    {
      "cell_type": "markdown",
      "source": [
        "## Tools"
      ],
      "metadata": {
        "id": "uzY915UTByQH"
      }
    },
    {
      "cell_type": "code",
      "source": [
        "from operator import itemgetter\n",
        "from typing import Dict, List, Union\n",
        "\n",
        "from langchain_core.messages import AIMessage\n",
        "from langchain_core.runnables import (\n",
        "    Runnable,\n",
        "    RunnableLambda,\n",
        "    RunnableMap,\n",
        "    RunnablePassthrough,\n",
        ")\n",
        "\n",
        "tools = [send_email]\n",
        "llm_with_tools = llm.bind_tools(tools)\n",
        "tool_map = {tool.name: tool for tool in tools}\n",
        "\n",
        "\n",
        "def call_tools(msg: AIMessage) -> Runnable:\n",
        "    \"\"\"Simple sequential tool calling helper.\"\"\"\n",
        "    tool_map = {tool.name: tool for tool in tools}\n",
        "    tool_calls = msg.tool_calls.copy()\n",
        "    for tool_call in tool_calls:\n",
        "        tool_call[\"output\"] = tool_map[tool_call[\"name\"]].invoke(tool_call[\"args\"])\n",
        "    return tool_calls\n",
        "\n",
        "\n",
        "chain = llm_with_tools | call_tools"
      ],
      "metadata": {
        "id": "ctprzJpN24m_"
      },
      "execution_count": null,
      "outputs": []
    },
    {
      "cell_type": "code",
      "source": [
        "chain.invoke(\"send mail to 322103310003@gvpce.ac.in from neerajsaiteja@gmail.com regarding the party\")"
      ],
      "metadata": {
        "colab": {
          "base_uri": "https://localhost:8080/"
        },
        "id": "g6Z4bpI029Do",
        "outputId": "977b4d8e-9712-45dd-a836-941d5f09fab8"
      },
      "execution_count": null,
      "outputs": [
        {
          "output_type": "stream",
          "name": "stdout",
          "text": [
            "From: neerajsaiteja@gmail.com\n",
            "To: 322103310003@gvpce.ac.in\n",
            "Subject: Regarding the Party\n",
            "Content-Type: text/plain; charset=\"utf-8\"\n",
            "Content-Transfer-Encoding: quoted-printable\n",
            "MIME-Version: 1.0\n",
            "\n",
            "Hey, just wanted to inform you about the party this weekend. Don't forget to =\n",
            "RSVP!\n",
            "\n",
            "hi\n",
            "hello\n"
          ]
        },
        {
          "output_type": "execute_result",
          "data": {
            "text/plain": [
              "[{'name': 'send_email',\n",
              "  'args': {'email_sender': 'neerajsaiteja@gmail.com',\n",
              "   'email_reciver': '322103310003@gvpce.ac.in',\n",
              "   'subject': 'Regarding the Party',\n",
              "   'body': \"Hey, just wanted to inform you about the party this weekend. Don't forget to RSVP!\"},\n",
              "  'id': 'call_hKDga8nRunF9bWZJfp0i1Mc3',\n",
              "  'output': None}]"
            ]
          },
          "metadata": {},
          "execution_count": 45
        }
      ]
    },
    {
      "cell_type": "code",
      "source": [],
      "metadata": {
        "colab": {
          "base_uri": "https://localhost:8080/"
        },
        "id": "aB0ZrrhW2_8H",
        "outputId": "7fd05c23-fad8-4652-b710-38c6c8730e96"
      },
      "execution_count": null,
      "outputs": [
        {
          "output_type": "execute_result",
          "data": {
            "text/plain": [
              "[{'name': 'add',\n",
              "  'args': {'first_int': 1000000, 'second_int': 1000000000},\n",
              "  'id': 'call_MAgRscEtHOA8EnLCEVllloIC',\n",
              "  'output': 1001000000}]"
            ]
          },
          "metadata": {},
          "execution_count": 32
        }
      ]
    },
    {
      "cell_type": "code",
      "source": [],
      "metadata": {
        "colab": {
          "base_uri": "https://localhost:8080/"
        },
        "id": "rBoWMOnq3B9V",
        "outputId": "466eec25-e249-4fa5-f02c-4f7969ae3804"
      },
      "execution_count": null,
      "outputs": [
        {
          "output_type": "execute_result",
          "data": {
            "text/plain": [
              "[{'name': 'exponentiate',\n",
              "  'args': {'base': 37, 'exponent': 3},\n",
              "  'id': 'call_CscL8kS46tvDEAQikuT3oDri',\n",
              "  'output': 50653},\n",
              " {'name': 'add',\n",
              "  'args': {'first_int': 135, 'second_int': 37000},\n",
              "  'id': 'call_llSConTX38LU3RKytWafRi4E',\n",
              "  'output': 37135}]"
            ]
          },
          "metadata": {},
          "execution_count": 34
        }
      ]
    },
    {
      "cell_type": "code",
      "source": [],
      "metadata": {
        "id": "-QFIeDlkMfza"
      },
      "execution_count": null,
      "outputs": []
    }
  ]
}